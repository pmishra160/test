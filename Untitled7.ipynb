sasdafsdafccsdcffewf bhay ffklnsafksalzkmdslkfnwe
sd/knsdlkvnds
lnsdlkfnvsdl.]
#ldkmncsdlvndsl
ds,mv nds.,vds#
sd;cvdslkvn
dsv:LXKZvmds;/c
xzncsdklzmsd;
ckznvlkdsmvsvew
]l3kewldvmsdclweqpdmqLDS
CsaCKLDSNCSDA'ZXL{
 "cells": [
  {
   "cell_type": "code",
   "execution_count": 36,
   "id": "07781a7c",
   "metadata": {},
   "outputs": [],
   "source": [
    "import tweepy\n",
    "import json\n",
    "import requests\n",
    "import os\n",
    "import csv\n",
    "import time \n",
    "from datetime import datetime\n",
    "import calendar"
   ]
  },
  {
   "cell_type": "code",
   "execution_count": null,
   "id": "04f2a48b",
   "metadata": {},
   "outputs": [],
   "source": []
  },
  {
   "cell_type": "code",
   "execution_count": 37,
   "id": "2a0f7e0e",
   "metadata": {},
   "outputs": [
    {
     "name": "stdout",
     "output_type": "stream",
     "text": [
      "enter twitter hastag for search\n",
      "covid vaccine\n",
      "enter the number of tweets5\n",
      "data is fetching\n",
      "[]\n",
      "tweet scrapped1:\n",
      "username: lornarnold\n",
      "description \n",
      "location \n",
      "following 182\n",
      "follower 139\n",
      "totaltweets 28714\n",
      "retweetcount 11\n",
      "text If you've heard that Israel is well underway administering fourth doses of COVID-19 vaccine, you may be wondering if it will soon be time to hunt for another vaccine appointment yourself. https://t.co/0he7xxO4sK\n",
      "hashtext:[]\n",
      "[]\n",
      "tweet scrapped2:\n",
      "username: MikeBrooksOATF\n",
      "description Coheed and Cambria / FXB Va/ Colon Cancer Survivor DX 2008 / Ancient Astronaut Theorist / Disclosure is coming / 29 Oct / Jack Brown’s Tattoo Revival / 🚫MASKS\n",
      "location \n",
      "following 790\n",
      "follower 448\n",
      "totaltweets 51020\n",
      "retweetcount 544\n",
      "text So if you’re keeping score at home the CDC now admits that natural immunity offered better protection against the delta covid variant than the vaccine &amp; Pfizer’s CEO has acknowledged that his own two shot vaccine offers “limited, if any” protection against the omicron variant.\n",
      "hashtext:[]\n",
      "[]\n",
      "tweet scrapped3:\n",
      "username: sandoora9484\n",
      "description \n",
      "location granada hills,ca\n",
      "following 236\n",
      "follower 33\n",
      "totaltweets 617\n",
      "retweetcount 1\n",
      "text Fuck you Chicago Med for having your actors portray like people that don’t want this poison vaccine are all crazy conspiracist! I used to like your show, no more, you’re feeding the lie of COVID!! More people are harmed and dying from the vaccine than from COVID itself!\n",
      "hashtext:[]\n",
      "[]\n",
      "tweet scrapped4:\n",
      "username: ActivateVA\n",
      "description Pro-democracy. Anti-corruption.\n",
      "location Richmond, VA\n",
      "following 2530\n",
      "follower 3559\n",
      "totaltweets 50914\n",
      "retweetcount 4\n",
      "text New LG Sears—who refuses to disclose her COVID vaccine status—is conspicuously absent from the Senate floor today; Senate President Pro-Tem @SenLouiseLucas is presiding in her place. https://t.co/K01AQD5uVs\n",
      "hashtext:[]\n",
      "[]\n",
      "tweet scrapped5:\n",
      "username: headlessinfidel\n",
      "description Unapologetic Patriot, Father of 4, Lover of life and animals, Leather up Nancy it's about to get real 🖕\n",
      "location flyover country\n",
      "following 3653\n",
      "follower 2114\n",
      "totaltweets 48517\n",
      "retweetcount 544\n",
      "text So if you’re keeping score at home the CDC now admits that natural immunity offered better protection against the delta covid variant than the vaccine &amp; Pfizer’s CEO has acknowledged that his own two shot vaccine offers “limited, if any” protection against the omicron variant.\n",
      "hashtext:[]\n"
     ]
    }
   ],
   "source": [
    "if __name__ == '__main__':\n",
    "    \n",
    "    \n",
    "    API_key=\"PYlvEC5JMLmaeAbljNgYA2db8\"\n",
    "\n",
    "    API_secret=\"u9vjrFnGU2xuCdAmrtXv5PPs71IvfBVluUvbzo3Sn7M8JKpcKs\"\n",
    "\n",
    "\n",
    "    access_token=\"200766421-Cn8gi37cpBEdgjtM0yhSEnvIgfYdoEzKefM80tIb\"\n",
    "\n",
    "\n",
    "    access_token_secret=\"L0pCXk7b90vCuCNX336RvYAEbxJuWr3QP8UWSsAAa6bvK\"\n",
    "    # connected to jump server of twitter\n",
    "    auth=tweepy.OAuthHandler(API_key,API_secret)\n",
    "# now we can connect from jump server to web server of twitter\n",
    "    auth.set_access_token(access_token,access_token_secret)\n",
    "    api=tweepy.API(auth)\n",
    "    print(\"enter twitter hastag for search\")\n",
    "    words=input()\n",
    "    numtweet=int(input(\"enter the number of tweets\"))\n",
    "    scrapped_data=[]\n",
    "    print(\"data is fetching\")\n",
    "    scrap_data(words,numtweet,scrapped_data)"
   ]
  },
  {
   "cell_type": "code",
   "execution_count": 72,
   "id": "59815d79",
   "metadata": {},
   "outputs": [],
   "source": [
    "def scrap_data(words,numtweet,scrapped_data):\n",
    "    tweets=tweepy.Cursor(api.search_tweets , q=words , lang=\"en\" , tweet_mode=\"extended\").items(numtweet)\n",
    "    list_tweets=[tweet for tweet in tweets]\n",
    "    i=1\n",
    "    for tweet in list_tweets:\n",
    "        #print(tweet)\n",
    "        user_id=tweet.user.id\n",
    "     \n",
    "        print(user_id)\n",
    "        username=tweet.user.screen_name\n",
    "        \n",
    "        description=tweet.user.description\n",
    "        \n",
    "        location = get_location(user_id)\n",
    "        following=tweet.user.friends_count\n",
    "        follower=tweet.user.followers_count\n",
    "        totaltweets=tweet.user.statuses_count\n",
    "        retweetcount=tweet.retweet_count\n",
    "        hashtags=tweet.entities[\"hashtags\"]\n",
    "        print(hashtags)\n",
    "        try:\n",
    "            text=tweet.retweeted_status.full_text\n",
    "            \n",
    "        except AttributeError:\n",
    "            text=tweet.full_text\n",
    "        hashtext=list()\n",
    "        for j in range(0,len(hashtags)):\n",
    "            hashtext.append(hashtags[j][\"text\"])\n",
    "        i_thtweet=[username,description,location,following,follower,totaltweets,retweetcount,text,hashtext]\n",
    "        \n",
    "        print_tweet(i,i_thtweet,scrapped_data)\n",
    "        i=i+1"
   ]
  },
  {
   "cell_type": "code",
   "execution_count": 73,
   "id": "480eec0c",
   "metadata": {},
   "outputs": [],
   "source": [
    "def print_tweet(i,i_thtweet,scrapped_data):\n",
    "    d={\"tweet_scrapped\":i,\n",
    "      \"username\":i_thtweet[0],\n",
    "      \"description\":i_thtweet[1],\n",
    "      \"location\":i_thtweet[2],\n",
    "      \"following\":i_thtweet[3],\n",
    "      \"follower\":i_thtweet[4],\n",
    "      \"totaltweets\":i_thtweet[5],\n",
    "      \"retweetcount\":i_thtweet[6],\n",
    "      \"text\":i_thtweet[7],\n",
    "      \"hashtext\":i_thtweet[8]}\n",
    "    \n",
    "    print(f\"tweet scrapped{i}:\")\n",
    "    print(f\"username:\",i_thtweet[0])\n",
    "    print(f\"description\",i_thtweet[1])\n",
    "    print(f\"location\",i_thtweet[2])\n",
    "    print(f\"following\",i_thtweet[3])\n",
    "    print(f\"follower\",i_thtweet[4])\n",
    "    print(f\"totaltweets\",i_thtweet[5])\n",
    "    print(f\"retweetcount\",i_thtweet[6])\n",
    "    print(f\"text\",i_thtweet[7])\n",
    "    print(f\"hashtext:{i_thtweet[8]}\")\n",
    "    scrapped_data.append(d)\n",
    "    try:\n",
    "        if not os.path.isdir(\"output\"):\n",
    "            os.mkdir(\"output\")\n",
    "        with open(f\"output/scraped_data.json\",\"w\") as outfile :\n",
    "            json.dump(scrapped_data, outfile, indent=4)\n",
    "    except :\n",
    "        print(\"exception occured\")\n",
    "        \n",
    "    "
   ]
  },
  {
   "cell_type": "code",
   "execution_count": 81,
   "id": "8b60d2de",
   "metadata": {},
   "outputs": [],
   "source": [
    "def get_location(idd):\n",
    "    user = api.get_user()\n",
    "  \n",
    "    return(user.location)\n",
    "    \n"
   ]
  },
  {
   "cell_type": "code",
   "execution_count": 75,
   "id": "229c0908",
   "metadata": {},
   "outputs": [
    {
     "name": "stdout",
     "output_type": "stream",
     "text": [
      "1426443127\n"
     ]
    },
    {
     "ename": "TypeError",
     "evalue": "get_user() takes 1 positional argument but 2 were given",
     "output_type": "error",
     "traceback": [
      "\u001b[1;31m---------------------------------------------------------------------------\u001b[0m",
      "\u001b[1;31mTypeError\u001b[0m                                 Traceback (most recent call last)",
      "\u001b[1;32m~\\AppData\\Local\\Temp/ipykernel_12736/1056974808.py\u001b[0m in \u001b[0;36m<module>\u001b[1;34m\u001b[0m\n\u001b[1;32m----> 1\u001b[1;33m \u001b[0mscrap_data\u001b[0m\u001b[1;33m(\u001b[0m\u001b[0mwords\u001b[0m\u001b[1;33m,\u001b[0m\u001b[0mnumtweet\u001b[0m\u001b[1;33m,\u001b[0m\u001b[0mscrapped_data\u001b[0m\u001b[1;33m)\u001b[0m\u001b[1;33m\u001b[0m\u001b[1;33m\u001b[0m\u001b[0m\n\u001b[0m",
      "\u001b[1;32m~\\AppData\\Local\\Temp/ipykernel_12736/1448384954.py\u001b[0m in \u001b[0;36mscrap_data\u001b[1;34m(words, numtweet, scrapped_data)\u001b[0m\n\u001b[0;32m     12\u001b[0m         \u001b[0mdescription\u001b[0m\u001b[1;33m=\u001b[0m\u001b[0mtweet\u001b[0m\u001b[1;33m.\u001b[0m\u001b[0muser\u001b[0m\u001b[1;33m.\u001b[0m\u001b[0mdescription\u001b[0m\u001b[1;33m\u001b[0m\u001b[1;33m\u001b[0m\u001b[0m\n\u001b[0;32m     13\u001b[0m \u001b[1;33m\u001b[0m\u001b[0m\n\u001b[1;32m---> 14\u001b[1;33m         \u001b[0mlocation\u001b[0m \u001b[1;33m=\u001b[0m \u001b[0mget_location\u001b[0m\u001b[1;33m(\u001b[0m\u001b[0muser_id\u001b[0m\u001b[1;33m)\u001b[0m\u001b[1;33m\u001b[0m\u001b[1;33m\u001b[0m\u001b[0m\n\u001b[0m\u001b[0;32m     15\u001b[0m         \u001b[0mfollowing\u001b[0m\u001b[1;33m=\u001b[0m\u001b[0mtweet\u001b[0m\u001b[1;33m.\u001b[0m\u001b[0muser\u001b[0m\u001b[1;33m.\u001b[0m\u001b[0mfriends_count\u001b[0m\u001b[1;33m\u001b[0m\u001b[1;33m\u001b[0m\u001b[0m\n\u001b[0;32m     16\u001b[0m         \u001b[0mfollower\u001b[0m\u001b[1;33m=\u001b[0m\u001b[0mtweet\u001b[0m\u001b[1;33m.\u001b[0m\u001b[0muser\u001b[0m\u001b[1;33m.\u001b[0m\u001b[0mfollowers_count\u001b[0m\u001b[1;33m\u001b[0m\u001b[1;33m\u001b[0m\u001b[0m\n",
      "\u001b[1;32m~\\AppData\\Local\\Temp/ipykernel_12736/1317581590.py\u001b[0m in \u001b[0;36mget_location\u001b[1;34m(idd)\u001b[0m\n\u001b[0;32m      1\u001b[0m \u001b[1;32mdef\u001b[0m \u001b[0mget_location\u001b[0m\u001b[1;33m(\u001b[0m\u001b[0midd\u001b[0m\u001b[1;33m)\u001b[0m\u001b[1;33m:\u001b[0m\u001b[1;33m\u001b[0m\u001b[1;33m\u001b[0m\u001b[0m\n\u001b[1;32m----> 2\u001b[1;33m     \u001b[0muser\u001b[0m \u001b[1;33m=\u001b[0m \u001b[0mapi\u001b[0m\u001b[1;33m.\u001b[0m\u001b[0mget_user\u001b[0m\u001b[1;33m(\u001b[0m\u001b[0mint\u001b[0m\u001b[1;33m(\u001b[0m\u001b[0midd\u001b[0m\u001b[1;33m)\u001b[0m\u001b[1;33m)\u001b[0m\u001b[1;33m\u001b[0m\u001b[1;33m\u001b[0m\u001b[0m\n\u001b[0m\u001b[0;32m      3\u001b[0m \u001b[1;33m\u001b[0m\u001b[0m\n\u001b[0;32m      4\u001b[0m     \u001b[1;32mreturn\u001b[0m\u001b[1;33m(\u001b[0m\u001b[0muser\u001b[0m\u001b[1;33m.\u001b[0m\u001b[0mlocation\u001b[0m\u001b[1;33m)\u001b[0m\u001b[1;33m\u001b[0m\u001b[1;33m\u001b[0m\u001b[0m\n\u001b[0;32m      5\u001b[0m \u001b[1;33m\u001b[0m\u001b[0m\n",
      "\u001b[1;32m~\\anaconda3\\lib\\site-packages\\tweepy\\api.py\u001b[0m in \u001b[0;36mwrapper\u001b[1;34m(*args, **kwargs)\u001b[0m\n\u001b[0;32m     44\u001b[0m             \u001b[0mkwargs\u001b[0m\u001b[1;33m[\u001b[0m\u001b[1;34m'payload_list'\u001b[0m\u001b[1;33m]\u001b[0m \u001b[1;33m=\u001b[0m \u001b[0mpayload_list\u001b[0m\u001b[1;33m\u001b[0m\u001b[1;33m\u001b[0m\u001b[0m\n\u001b[0;32m     45\u001b[0m             \u001b[0mkwargs\u001b[0m\u001b[1;33m[\u001b[0m\u001b[1;34m'payload_type'\u001b[0m\u001b[1;33m]\u001b[0m \u001b[1;33m=\u001b[0m \u001b[0mpayload_type\u001b[0m\u001b[1;33m\u001b[0m\u001b[1;33m\u001b[0m\u001b[0m\n\u001b[1;32m---> 46\u001b[1;33m             \u001b[1;32mreturn\u001b[0m \u001b[0mmethod\u001b[0m\u001b[1;33m(\u001b[0m\u001b[1;33m*\u001b[0m\u001b[0margs\u001b[0m\u001b[1;33m,\u001b[0m \u001b[1;33m**\u001b[0m\u001b[0mkwargs\u001b[0m\u001b[1;33m)\u001b[0m\u001b[1;33m\u001b[0m\u001b[1;33m\u001b[0m\u001b[0m\n\u001b[0m\u001b[0;32m     47\u001b[0m         \u001b[0mwrapper\u001b[0m\u001b[1;33m.\u001b[0m\u001b[0mpayload_list\u001b[0m \u001b[1;33m=\u001b[0m \u001b[0mpayload_list\u001b[0m\u001b[1;33m\u001b[0m\u001b[1;33m\u001b[0m\u001b[0m\n\u001b[0;32m     48\u001b[0m         \u001b[0mwrapper\u001b[0m\u001b[1;33m.\u001b[0m\u001b[0mpayload_type\u001b[0m \u001b[1;33m=\u001b[0m \u001b[0mpayload_type\u001b[0m\u001b[1;33m\u001b[0m\u001b[1;33m\u001b[0m\u001b[0m\n",
      "\u001b[1;31mTypeError\u001b[0m: get_user() takes 1 positional argument but 2 were given"
     ]
    }
   ],
   "source": [
    "scrap_data(words,numtweet,scrapped_data)"
   ]
  },
  {
   "cell_type": "code",
   "execution_count": 84,
   "id": "fdfd09d5",
   "metadata": {},
   "outputs": [
    {
     "ename": "NotFound",
     "evalue": "404 Not Found\n50 - User not found.",
     "output_type": "error",
     "traceback": [
      "\u001b[1;31m---------------------------------------------------------------------------\u001b[0m",
      "\u001b[1;31mNotFound\u001b[0m                                  Traceback (most recent call last)",
      "\u001b[1;32m~\\AppData\\Local\\Temp/ipykernel_12736/4170897396.py\u001b[0m in \u001b[0;36m<module>\u001b[1;34m\u001b[0m\n\u001b[0;32m      1\u001b[0m \u001b[0mid3\u001b[0m \u001b[1;33m=\u001b[0m \u001b[1;34m\"1426443127\"\u001b[0m\u001b[1;33m\u001b[0m\u001b[1;33m\u001b[0m\u001b[0m\n\u001b[1;32m----> 2\u001b[1;33m \u001b[0mlocation\u001b[0m\u001b[1;33m=\u001b[0m\u001b[0mget_location\u001b[0m\u001b[1;33m(\u001b[0m\u001b[0mid3\u001b[0m\u001b[1;33m)\u001b[0m\u001b[1;33m\u001b[0m\u001b[1;33m\u001b[0m\u001b[0m\n\u001b[0m\u001b[0;32m      3\u001b[0m \u001b[1;33m\u001b[0m\u001b[0m\n",
      "\u001b[1;32m~\\AppData\\Local\\Temp/ipykernel_12736/1099685998.py\u001b[0m in \u001b[0;36mget_location\u001b[1;34m(idd)\u001b[0m\n\u001b[0;32m      1\u001b[0m \u001b[1;32mdef\u001b[0m \u001b[0mget_location\u001b[0m\u001b[1;33m(\u001b[0m\u001b[0midd\u001b[0m\u001b[1;33m)\u001b[0m\u001b[1;33m:\u001b[0m\u001b[1;33m\u001b[0m\u001b[1;33m\u001b[0m\u001b[0m\n\u001b[1;32m----> 2\u001b[1;33m     \u001b[0muser\u001b[0m \u001b[1;33m=\u001b[0m \u001b[0mapi\u001b[0m\u001b[1;33m.\u001b[0m\u001b[0mget_user\u001b[0m\u001b[1;33m(\u001b[0m\u001b[1;33m)\u001b[0m\u001b[1;33m\u001b[0m\u001b[1;33m\u001b[0m\u001b[0m\n\u001b[0m\u001b[0;32m      3\u001b[0m \u001b[1;33m\u001b[0m\u001b[0m\n\u001b[0;32m      4\u001b[0m     \u001b[1;32mreturn\u001b[0m\u001b[1;33m(\u001b[0m\u001b[0muser\u001b[0m\u001b[1;33m.\u001b[0m\u001b[0mlocation\u001b[0m\u001b[1;33m)\u001b[0m\u001b[1;33m\u001b[0m\u001b[1;33m\u001b[0m\u001b[0m\n\u001b[0;32m      5\u001b[0m \u001b[1;33m\u001b[0m\u001b[0m\n",
      "\u001b[1;32m~\\anaconda3\\lib\\site-packages\\tweepy\\api.py\u001b[0m in \u001b[0;36mwrapper\u001b[1;34m(*args, **kwargs)\u001b[0m\n\u001b[0;32m     44\u001b[0m             \u001b[0mkwargs\u001b[0m\u001b[1;33m[\u001b[0m\u001b[1;34m'payload_list'\u001b[0m\u001b[1;33m]\u001b[0m \u001b[1;33m=\u001b[0m \u001b[0mpayload_list\u001b[0m\u001b[1;33m\u001b[0m\u001b[1;33m\u001b[0m\u001b[0m\n\u001b[0;32m     45\u001b[0m             \u001b[0mkwargs\u001b[0m\u001b[1;33m[\u001b[0m\u001b[1;34m'payload_type'\u001b[0m\u001b[1;33m]\u001b[0m \u001b[1;33m=\u001b[0m \u001b[0mpayload_type\u001b[0m\u001b[1;33m\u001b[0m\u001b[1;33m\u001b[0m\u001b[0m\n\u001b[1;32m---> 46\u001b[1;33m             \u001b[1;32mreturn\u001b[0m \u001b[0mmethod\u001b[0m\u001b[1;33m(\u001b[0m\u001b[1;33m*\u001b[0m\u001b[0margs\u001b[0m\u001b[1;33m,\u001b[0m \u001b[1;33m**\u001b[0m\u001b[0mkwargs\u001b[0m\u001b[1;33m)\u001b[0m\u001b[1;33m\u001b[0m\u001b[1;33m\u001b[0m\u001b[0m\n\u001b[0m\u001b[0;32m     47\u001b[0m         \u001b[0mwrapper\u001b[0m\u001b[1;33m.\u001b[0m\u001b[0mpayload_list\u001b[0m \u001b[1;33m=\u001b[0m \u001b[0mpayload_list\u001b[0m\u001b[1;33m\u001b[0m\u001b[1;33m\u001b[0m\u001b[0m\n\u001b[0;32m     48\u001b[0m         \u001b[0mwrapper\u001b[0m\u001b[1;33m.\u001b[0m\u001b[0mpayload_type\u001b[0m \u001b[1;33m=\u001b[0m \u001b[0mpayload_type\u001b[0m\u001b[1;33m\u001b[0m\u001b[1;33m\u001b[0m\u001b[0m\n",
      "\u001b[1;32m~\\anaconda3\\lib\\site-packages\\tweepy\\api.py\u001b[0m in \u001b[0;36mget_user\u001b[1;34m(self, **kwargs)\u001b[0m\n\u001b[0;32m   2424\u001b[0m         \u001b[0mhttps\u001b[0m\u001b[1;33m:\u001b[0m\u001b[1;33m//\u001b[0m\u001b[0mdeveloper\u001b[0m\u001b[1;33m.\u001b[0m\u001b[0mtwitter\u001b[0m\u001b[1;33m.\u001b[0m\u001b[0mcom\u001b[0m\u001b[1;33m/\u001b[0m\u001b[0men\u001b[0m\u001b[1;33m/\u001b[0m\u001b[0mdocs\u001b[0m\u001b[1;33m/\u001b[0m\u001b[0mtwitter\u001b[0m\u001b[1;33m-\u001b[0m\u001b[0mapi\u001b[0m\u001b[1;33m/\u001b[0m\u001b[0mv1\u001b[0m\u001b[1;33m/\u001b[0m\u001b[0maccounts\u001b[0m\u001b[1;33m-\u001b[0m\u001b[1;32mand\u001b[0m\u001b[1;33m-\u001b[0m\u001b[0musers\u001b[0m\u001b[1;33m/\u001b[0m\u001b[0mfollow\u001b[0m\u001b[1;33m-\u001b[0m\u001b[0msearch\u001b[0m\u001b[1;33m-\u001b[0m\u001b[0mget\u001b[0m\u001b[1;33m-\u001b[0m\u001b[0musers\u001b[0m\u001b[1;33m/\u001b[0m\u001b[0mapi\u001b[0m\u001b[1;33m-\u001b[0m\u001b[0mreference\u001b[0m\u001b[1;33m/\u001b[0m\u001b[0mget\u001b[0m\u001b[1;33m-\u001b[0m\u001b[0musers\u001b[0m\u001b[1;33m-\u001b[0m\u001b[0mshow\u001b[0m\u001b[1;33m\u001b[0m\u001b[1;33m\u001b[0m\u001b[0m\n\u001b[0;32m   2425\u001b[0m         \"\"\"\n\u001b[1;32m-> 2426\u001b[1;33m         return self.request(\n\u001b[0m\u001b[0;32m   2427\u001b[0m             'GET', 'users/show', endpoint_parameters=(\n\u001b[0;32m   2428\u001b[0m                 \u001b[1;34m'user_id'\u001b[0m\u001b[1;33m,\u001b[0m \u001b[1;34m'screen_name'\u001b[0m\u001b[1;33m,\u001b[0m \u001b[1;34m'include_entities'\u001b[0m\u001b[1;33m\u001b[0m\u001b[1;33m\u001b[0m\u001b[0m\n",
      "\u001b[1;32m~\\anaconda3\\lib\\site-packages\\tweepy\\api.py\u001b[0m in \u001b[0;36mrequest\u001b[1;34m(self, method, endpoint, endpoint_parameters, params, headers, json_payload, parser, payload_list, payload_type, post_data, files, require_auth, return_cursors, upload_api, use_cache, **kwargs)\u001b[0m\n\u001b[0;32m    259\u001b[0m                 \u001b[1;32mraise\u001b[0m \u001b[0mForbidden\u001b[0m\u001b[1;33m(\u001b[0m\u001b[0mresp\u001b[0m\u001b[1;33m)\u001b[0m\u001b[1;33m\u001b[0m\u001b[1;33m\u001b[0m\u001b[0m\n\u001b[0;32m    260\u001b[0m             \u001b[1;32mif\u001b[0m \u001b[0mresp\u001b[0m\u001b[1;33m.\u001b[0m\u001b[0mstatus_code\u001b[0m \u001b[1;33m==\u001b[0m \u001b[1;36m404\u001b[0m\u001b[1;33m:\u001b[0m\u001b[1;33m\u001b[0m\u001b[1;33m\u001b[0m\u001b[0m\n\u001b[1;32m--> 261\u001b[1;33m                 \u001b[1;32mraise\u001b[0m \u001b[0mNotFound\u001b[0m\u001b[1;33m(\u001b[0m\u001b[0mresp\u001b[0m\u001b[1;33m)\u001b[0m\u001b[1;33m\u001b[0m\u001b[1;33m\u001b[0m\u001b[0m\n\u001b[0m\u001b[0;32m    262\u001b[0m             \u001b[1;32mif\u001b[0m \u001b[0mresp\u001b[0m\u001b[1;33m.\u001b[0m\u001b[0mstatus_code\u001b[0m \u001b[1;33m==\u001b[0m \u001b[1;36m429\u001b[0m\u001b[1;33m:\u001b[0m\u001b[1;33m\u001b[0m\u001b[1;33m\u001b[0m\u001b[0m\n\u001b[0;32m    263\u001b[0m                 \u001b[1;32mraise\u001b[0m \u001b[0mTooManyRequests\u001b[0m\u001b[1;33m(\u001b[0m\u001b[0mresp\u001b[0m\u001b[1;33m)\u001b[0m\u001b[1;33m\u001b[0m\u001b[1;33m\u001b[0m\u001b[0m\n",
      "\u001b[1;31mNotFound\u001b[0m: 404 Not Found\n50 - User not found."
     ]
    }
   ],
   "source": [
    "\n",
    "  "
   ]
  },
  {
   "cell_type": "code",
   "execution_count": null,
   "id": "3a132d42",
   "metadata": {},
   "outputs": [],
   "source": []
  }
 ],
 "metadata": {
  "kernelspec": {
   "display_name": "Python 3 (ipykernel)",
   "language": "python",
   "name": "python3"
  },
  "language_info": {
   "codemirror_mode": {
    "name": "ipython",
    "version": 3
   },
   "file_extension": ".py",
   "mimetype": "text/x-python",
   "name": "python",
   "nbconvert_exporter": "python",
   "pygments_lexer": "ipython3",
   "version": "3.9.7"
  }
 },
 "nbformat": 4,
 "nbformat_minor": 5
}
